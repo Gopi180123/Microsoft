{
 "cells": [
  {
   "cell_type": "code",
   "execution_count": 1,
   "metadata": {},
   "outputs": [
    {
     "data": {
      "text/plain": [
       "(56756, 76)"
      ]
     },
     "execution_count": 1,
     "metadata": {},
     "output_type": "execute_result"
    }
   ],
   "source": [
    "import pandas as pd\n",
    "import numpy as np\n",
    "data=pd.read_csv('Microsoft_Data.csv')\n",
    "data.shape\n",
    "data.info\n",
    "data.isnull().sum().sort_values(ascending=False)#Columns which are having more nan values splitted\n",
    "data.drop(columns=['PuaMode','Census_ProcessorClass','DefaultBrowsersIdentifier','Census_IsFlightingInternal',\n",
    "                   'Census_InternalBatteryType','Census_ThresholdOptIn','Census_IsWIMBootEnabled'],inplace=True)\n",
    "data.shape"
   ]
  },
  {
   "cell_type": "code",
   "execution_count": 2,
   "metadata": {},
   "outputs": [
    {
     "data": {
      "text/plain": [
       "array(['0000028988387b115f69f31a3bf04f09',\n",
       "       '000007535c3f730efa9ea0b7ef1bd645',\n",
       "       '000007905a28d863f6d0d597892cd692', ...,\n",
       "       '01a3af52c05b6af7d971d5f3092c3a80',\n",
       "       '01a3b0c12114367eb99eaa2fac6b754c',\n",
       "       '01a3b14d2c2d4f1bc85204d10713884d'], dtype=object)"
      ]
     },
     "execution_count": 2,
     "metadata": {},
     "output_type": "execute_result"
    }
   ],
   "source": [
    "data['MachineIdentifier'].unique()"
   ]
  },
  {
   "cell_type": "code",
   "execution_count": 3,
   "metadata": {},
   "outputs": [],
   "source": [
    "data_obj=data.select_dtypes('object')"
   ]
  },
  {
   "cell_type": "code",
   "execution_count": 4,
   "metadata": {},
   "outputs": [],
   "source": [
    "numerics = ['int8', 'int16', 'int32', 'int64', 'float16', 'float32', 'float64']\n",
    "data_num=data.select_dtypes(numerics)"
   ]
  },
  {
   "cell_type": "code",
   "execution_count": 5,
   "metadata": {
    "collapsed": true
   },
   "outputs": [
    {
     "name": "stdout",
     "output_type": "stream",
     "text": [
      "IsBeta False\n",
      "RtpStateBitfield False\n",
      "IsSxsPassiveMode False\n",
      "AVProductStatesIdentifier False\n",
      "AVProductsInstalled False\n",
      "AVProductsEnabled False\n",
      "HasTpm False\n",
      "CountryIdentifier False\n",
      "CityIdentifier True\n",
      "OrganizationIdentifier False\n",
      "GeoNameIdentifier False\n",
      "LocaleEnglishNameIdentifier False\n",
      "OsBuild False\n",
      "OsSuite False\n",
      "IsProtected False\n",
      "AutoSampleOptIn False\n",
      "SMode False\n",
      "IeVerIdentifier False\n",
      "Firewall False\n",
      "UacLuaenable False\n",
      "Census_OEMNameIdentifier False\n",
      "Census_OEMModelIdentifier True\n",
      "Census_ProcessorCoreCount False\n",
      "Census_ProcessorManufacturerIdentifier False\n",
      "Census_ProcessorModelIdentifier False\n",
      "Census_PrimaryDiskTotalCapacity False\n",
      "Census_SystemVolumeTotalCapacity True\n",
      "Census_HasOpticalDiskDrive False\n",
      "Census_TotalPhysicalRAM False\n",
      "Census_InternalPrimaryDiagonalDisplaySizeInInches False\n",
      "Census_InternalPrimaryDisplayResolutionHorizontal False\n",
      "Census_InternalPrimaryDisplayResolutionVertical False\n",
      "Census_InternalBatteryNumberOfCharges False\n",
      "Census_OSBuildNumber False\n",
      "Census_OSBuildRevision False\n",
      "Census_OSInstallLanguageIdentifier False\n",
      "Census_OSUILocaleIdentifier False\n",
      "Census_IsPortableOperatingSystem False\n",
      "Census_IsFlightsDisabled False\n",
      "Census_FirmwareManufacturerIdentifier False\n",
      "Census_FirmwareVersionIdentifier False\n",
      "Census_IsSecureBootEnabled False\n",
      "Census_IsVirtualDevice False\n",
      "Census_IsTouchEnabled False\n",
      "Census_IsPenCapable False\n",
      "Census_IsAlwaysOnAlwaysConnectedCapable False\n",
      "Wdft_IsGamer False\n",
      "Wdft_RegionIdentifier False\n",
      "HasDetections False\n"
     ]
    }
   ],
   "source": [
    "#print(len(data['IsBeta'].unique()))\n",
    "for col in data_num :\n",
    "    unique_values=len(data_num[col].unique())\n",
    "    print(col,unique_values>10000)\n"
   ]
  },
  {
   "cell_type": "code",
   "execution_count": 6,
   "metadata": {},
   "outputs": [
    {
     "name": "stderr",
     "output_type": "stream",
     "text": [
      "C:\\Users\\Ramya\\Anaconda3\\lib\\site-packages\\ipykernel_launcher.py:4: SettingWithCopyWarning: \n",
      "A value is trying to be set on a copy of a slice from a DataFrame.\n",
      "Try using .loc[row_indexer,col_indexer] = value instead\n",
      "\n",
      "See the caveats in the documentation: http://pandas.pydata.org/pandas-docs/stable/indexing.html#indexing-view-versus-copy\n",
      "  after removing the cwd from sys.path.\n"
     ]
    }
   ],
   "source": [
    "#Converting all values to categorical\n",
    "\n",
    "for col in data_num :\n",
    "    data_num[col]=data_num[col].astype('object')\n",
    "\n",
    "\n"
   ]
  },
  {
   "cell_type": "code",
   "execution_count": 7,
   "metadata": {},
   "outputs": [],
   "source": [
    "#data_object=data_obj+data_num\n",
    "data_object=pd.concat([data_num,data_obj],axis=1)\n",
    "data_object.shape\n",
    "y=data_object['HasDetections']\n",
    "data_object.drop(columns='HasDetections',inplace=True)\n"
   ]
  },
  {
   "cell_type": "code",
   "execution_count": 8,
   "metadata": {},
   "outputs": [],
   "source": [
    "columns=list(data_object.columns)\n",
    "\n",
    "for col in data_object:\n",
    "    \n",
    "    # remove columns with high NA rate\n",
    "    na_rate = data_object[col].isnull().sum() / data_object.shape[0]\n",
    "    \n",
    "    # remove columns with high Unbalanced values rate\n",
    "    unbalanced_rate = data_object[col].value_counts(normalize=True, dropna=False).values[0]\n",
    "    \n",
    "    if na_rate > 0.7:\n",
    "        columns.remove(col)\n",
    "    elif unbalanced_rate > 0.9:\n",
    "        columns.remove(col)"
   ]
  },
  {
   "cell_type": "code",
   "execution_count": 9,
   "metadata": {},
   "outputs": [
    {
     "data": {
      "text/plain": [
       "(56756, 52)"
      ]
     },
     "execution_count": 9,
     "metadata": {},
     "output_type": "execute_result"
    }
   ],
   "source": [
    "columns\n",
    "data_object=data_object[columns]\n",
    "data_object.shape"
   ]
  },
  {
   "cell_type": "code",
   "execution_count": 10,
   "metadata": {},
   "outputs": [],
   "source": [
    "for col in data_object:\n",
    "    data_object[col]=data_object[col].fillna(data_object[col].mode().iloc[0])\n",
    "data_series=list(data_object.columns)"
   ]
  },
  {
   "cell_type": "code",
   "execution_count": 11,
   "metadata": {
    "collapsed": true
   },
   "outputs": [
    {
     "data": {
      "text/plain": [
       "28     5.001538e-01\n",
       "32     4.980265e-01\n",
       "21     4.257982e-01\n",
       "13     8.561657e-02\n",
       "16     7.253662e-03\n",
       "4      1.439614e-03\n",
       "3      3.093951e-04\n",
       "27     1.914769e-04\n",
       "50     1.883395e-05\n",
       "38     3.911500e-06\n",
       "8      2.355764e-07\n",
       "11     3.859509e-12\n",
       "41     2.888727e-13\n",
       "49     1.077721e-14\n",
       "9      1.758909e-15\n",
       "7      1.434114e-17\n",
       "26     4.377856e-18\n",
       "31     1.165152e-18\n",
       "22     1.210308e-19\n",
       "25     8.288708e-22\n",
       "29     7.435297e-22\n",
       "24     2.775633e-23\n",
       "36     2.146644e-23\n",
       "6      1.294722e-23\n",
       "48     1.018901e-23\n",
       "19     2.778742e-24\n",
       "10     2.319780e-24\n",
       "51     5.747724e-25\n",
       "30     1.869503e-28\n",
       "5      1.598215e-28\n",
       "35     6.692324e-30\n",
       "44     1.256128e-33\n",
       "23     1.783875e-35\n",
       "46     2.917532e-36\n",
       "47     7.997531e-37\n",
       "45     1.607312e-37\n",
       "14     9.852885e-40\n",
       "2      1.655279e-43\n",
       "37     1.264234e-44\n",
       "20     5.262741e-47\n",
       "42     1.648687e-49\n",
       "43     3.485656e-52\n",
       "12     1.027742e-53\n",
       "18     2.506417e-54\n",
       "40     1.226526e-55\n",
       "15     8.543230e-67\n",
       "17     6.108561e-92\n",
       "34    2.679675e-100\n",
       "0     6.699477e-137\n",
       "33    5.240161e-175\n",
       "1     8.499952e-244\n",
       "39     0.000000e+00\n",
       "Name: p_value, dtype: float64"
      ]
     },
     "execution_count": 11,
     "metadata": {},
     "output_type": "execute_result"
    }
   ],
   "source": [
    "import scipy\n",
    "from scipy import stats\n",
    "\n",
    "col_p_values=[]\n",
    "\n",
    "p_values_list=[]\n",
    "for col in data_object:\n",
    "    crosstab=pd.crosstab(data_object[col],y)# build Contigency table\n",
    "    data_object[col].value_counts()\n",
    "    p_values_list.append(scipy.stats.chi2_contingency(crosstab)[1])\n",
    "    \n",
    "    #p-value which is less than 5% so altenate hypothesis correlation exists\n",
    "    \n",
    "p_values_df=pd.DataFrame({'Column Name':data_object.columns,'p_value':p_values_list})\n",
    "\n",
    "p_values_df['p_value'].sort_values(ascending=False)"
   ]
  },
  {
   "cell_type": "code",
   "execution_count": 125,
   "metadata": {
    "collapsed": true
   },
   "outputs": [
    {
     "data": {
      "text/plain": [
       "array([[1.99478469e+00, 2.00521531e+00],\n",
       "       [3.11186412e+02, 3.12813588e+02],\n",
       "       [5.93947142e+02, 5.97052858e+02],\n",
       "       [8.54266545e+02, 8.58733455e+02],\n",
       "       [1.30359180e+03, 1.31040820e+03],\n",
       "       [2.31195546e+03, 2.32404454e+03],\n",
       "       [2.53138177e+03, 2.54461823e+03],\n",
       "       [7.91580436e+03, 7.95719564e+03],\n",
       "       [1.24155399e+04, 1.24804601e+04],\n",
       "       [4.98696173e-01, 5.01303827e-01],\n",
       "       [4.98696173e-01, 5.01303827e-01],\n",
       "       [1.49608852e+00, 1.50391148e+00],\n",
       "       [4.98696173e-01, 5.01303827e-01],\n",
       "       [9.97392346e-01, 1.00260765e+00],\n",
       "       [4.98696173e-01, 5.01303827e-01],\n",
       "       [4.98696173e-01, 5.01303827e-01],\n",
       "       [7.48044260e+00, 7.51955740e+00],\n",
       "       [4.98696173e-01, 5.01303827e-01],\n",
       "       [4.98696173e+00, 5.01303827e+00],\n",
       "       [4.98696173e-01, 5.01303827e-01],\n",
       "       [4.98696173e-01, 5.01303827e-01],\n",
       "       [2.99217704e+00, 3.00782296e+00],\n",
       "       [7.48044260e+00, 7.51955740e+00],\n",
       "       [4.98696173e-01, 5.01303827e-01],\n",
       "       [4.48826556e+00, 4.51173444e+00],\n",
       "       [6.48305025e+00, 6.51694975e+00],\n",
       "       [3.98956938e+00, 4.01043062e+00],\n",
       "       [4.98696173e-01, 5.01303827e-01],\n",
       "       [2.49348087e+00, 2.50651913e+00],\n",
       "       [3.98956938e+00, 4.01043062e+00],\n",
       "       [2.49348087e+00, 2.50651913e+00],\n",
       "       [5.48565790e+00, 5.51434210e+00],\n",
       "       [4.98696173e-01, 5.01303827e-01],\n",
       "       [1.49608852e+00, 1.50391148e+00],\n",
       "       [4.98696173e-01, 5.01303827e-01],\n",
       "       [1.99478469e+00, 2.00521531e+00]])"
      ]
     },
     "execution_count": 125,
     "metadata": {},
     "output_type": "execute_result"
    }
   ],
   "source": [
    "from xgboost import XGRegressor\n",
    "\n",
    "params={'min_child_weight':[4,5],'gamma':[i/10.0 for i in range(3,6)],'subsample':[i/10.0 for i in range(0,11)],\n",
    "       'colsample_bytree':\n",
    "       }"
   ]
  }
 ],
 "metadata": {
  "kernelspec": {
   "display_name": "Python 3",
   "language": "python",
   "name": "python3"
  },
  "language_info": {
   "codemirror_mode": {
    "name": "ipython",
    "version": 3
   },
   "file_extension": ".py",
   "mimetype": "text/x-python",
   "name": "python",
   "nbconvert_exporter": "python",
   "pygments_lexer": "ipython3",
   "version": "3.7.3"
  }
 },
 "nbformat": 4,
 "nbformat_minor": 2
}
